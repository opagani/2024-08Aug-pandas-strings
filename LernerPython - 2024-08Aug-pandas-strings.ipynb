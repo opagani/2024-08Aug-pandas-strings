{
 "cells": [
  {
   "cell_type": "markdown",
   "metadata": {},
   "source": [
    "# Agenda: Strings in Pandas\n",
    "\n",
    "1. How does Pandas store strings?\n",
    "2. How to work with strings using `.str` (the \"string accessor\")\n",
    "3. A lot of string methods that we might want to use\n",
    "4. String methods on non-strings\n",
    "5. Regular expressions and the string methods\n",
    "6. Memory usage\n",
    "7. Extension types\n",
    "8. PyArrow"
   ]
  },
  {
   "cell_type": "markdown",
   "metadata": {},
   "source": [
    "# Pandas and strings\n",
    "\n",
    "We know that normally, Pandas stores its data in NumPy."
   ]
  },
  {
   "cell_type": "code",
   "execution_count": 1,
   "metadata": {},
   "outputs": [],
   "source": [
    "import numpy as np\n",
    "import pandas as pd\n",
    "from pandas import Series, DataFrame"
   ]
  },
  {
   "cell_type": "code",
   "execution_count": 2,
   "metadata": {},
   "outputs": [
    {
     "data": {
      "text/plain": [
       "0    10\n",
       "1    20\n",
       "2    30\n",
       "dtype: int64"
      ]
     },
     "execution_count": 2,
     "metadata": {},
     "output_type": "execute_result"
    }
   ],
   "source": [
    "s = Series([10, 20, 30])\n",
    "s"
   ]
  },
  {
   "cell_type": "code",
   "execution_count": 4,
   "metadata": {},
   "outputs": [
    {
     "data": {
      "text/plain": [
       "array([10, 20, 30])"
      ]
     },
     "execution_count": 4,
     "metadata": {},
     "output_type": "execute_result"
    }
   ],
   "source": [
    "s.values   # get the NumPy array back from behind the Pandas series"
   ]
  },
  {
   "cell_type": "code",
   "execution_count": 5,
   "metadata": {},
   "outputs": [
    {
     "data": {
      "text/plain": [
       "dtype('int64')"
      ]
     },
     "execution_count": 5,
     "metadata": {},
     "output_type": "execute_result"
    }
   ],
   "source": [
    "s.values.dtype"
   ]
  },
  {
   "cell_type": "code",
   "execution_count": 6,
   "metadata": {},
   "outputs": [
    {
     "data": {
      "text/plain": [
       "0    10.5\n",
       "1    20.5\n",
       "2    30.5\n",
       "dtype: float64"
      ]
     },
     "execution_count": 6,
     "metadata": {},
     "output_type": "execute_result"
    }
   ],
   "source": [
    "s = Series([10.5, 20.5, 30.5])\n",
    "s"
   ]
  },
  {
   "cell_type": "code",
   "execution_count": 7,
   "metadata": {},
   "outputs": [
    {
     "data": {
      "text/plain": [
       "dtype('float64')"
      ]
     },
     "execution_count": 7,
     "metadata": {},
     "output_type": "execute_result"
    }
   ],
   "source": [
    "s.values.dtype"
   ]
  },
  {
   "cell_type": "code",
   "execution_count": 8,
   "metadata": {},
   "outputs": [
    {
     "data": {
      "text/plain": [
       "array(['hello', 'out', 'there'], dtype='<U5')"
      ]
     },
     "execution_count": 8,
     "metadata": {},
     "output_type": "execute_result"
    }
   ],
   "source": [
    "# let's say that I want to create a NumPy array of strings. Can I?\n",
    "\n",
    "a = np.array('hello out there'.split())\n",
    "a"
   ]
  },
  {
   "cell_type": "markdown",
   "metadata": {},
   "source": [
    "When NumPy stores strings, it does so in C-type memory. An array (including a NumPy array), by definition, has elements that are \n",
    "all of the same type. In this case, all of the elements of `a` are of type `<U5`, which means: Up to 5 Unicode characters."
   ]
  },
  {
   "cell_type": "code",
   "execution_count": 9,
   "metadata": {},
   "outputs": [],
   "source": [
    "a[0] = 'goodbye'"
   ]
  },
  {
   "cell_type": "code",
   "execution_count": 10,
   "metadata": {},
   "outputs": [
    {
     "data": {
      "text/plain": [
       "array(['goodb', 'out', 'there'], dtype='<U5')"
      ]
     },
     "execution_count": 10,
     "metadata": {},
     "output_type": "execute_result"
    }
   ],
   "source": [
    "a"
   ]
  },
  {
   "cell_type": "markdown",
   "metadata": {},
   "source": [
    "For this reason, and many others, we don't want to use NumPy's strings. They are fragile, in that we can accidentally\n",
    "remove characters, and they don't have the flexiblity that we know and love from Python strings.\n",
    "\n",
    "The Pandas solution to this problem is: Use Python strings!"
   ]
  },
  {
   "cell_type": "code",
   "execution_count": 11,
   "metadata": {},
   "outputs": [
    {
     "data": {
      "text/plain": [
       "0    hello\n",
       "1      out\n",
       "2    there\n",
       "dtype: object"
      ]
     },
     "execution_count": 11,
     "metadata": {},
     "output_type": "execute_result"
    }
   ],
   "source": [
    "s = Series('hello out there'.split())\n",
    "s"
   ]
  },
  {
   "cell_type": "markdown",
   "metadata": {},
   "source": [
    "A dtype of `object` means: NumPy has a pointer (\"reference\") to a Python object. Normally, and most of the time, \n",
    "if you see a dtype of `object`, it's because we're working with strings.\n",
    "\n",
    "The good news is then that we can retrieve these strings and run Python methods on them. Also good news is that\n",
    "the size of the string isn't constrained by the memory allocated by NumPy.\n",
    "\n"
   ]
  },
  {
   "cell_type": "code",
   "execution_count": 12,
   "metadata": {},
   "outputs": [],
   "source": [
    "s.loc[0] = 'goodbye'"
   ]
  },
  {
   "cell_type": "code",
   "execution_count": 13,
   "metadata": {},
   "outputs": [
    {
     "data": {
      "text/plain": [
       "0    goodbye\n",
       "1        out\n",
       "2      there\n",
       "dtype: object"
      ]
     },
     "execution_count": 13,
     "metadata": {},
     "output_type": "execute_result"
    }
   ],
   "source": [
    "s"
   ]
  },
  {
   "cell_type": "code",
   "execution_count": 15,
   "metadata": {},
   "outputs": [
    {
     "data": {
      "text/plain": [
       "str"
      ]
     },
     "execution_count": 15,
     "metadata": {},
     "output_type": "execute_result"
    }
   ],
   "source": [
    "type(s.loc[0])"
   ]
  },
  {
   "cell_type": "markdown",
   "metadata": {},
   "source": [
    "Now that we know that we have Python strings... how can we invoke methods on them? Should we just use a `for` loop\n",
    "and iterate over each string, doing something to it?"
   ]
  },
  {
   "cell_type": "code",
   "execution_count": 16,
   "metadata": {},
   "outputs": [
    {
     "name": "stdout",
     "output_type": "stream",
     "text": [
      "GOODBYE\n",
      "OUT\n",
      "THERE\n"
     ]
    }
   ],
   "source": [
    "for one_word in s:\n",
    "    print(one_word.upper())"
   ]
  },
  {
   "cell_type": "markdown",
   "metadata": {},
   "source": [
    "# Don't do this (for several reasons)\n",
    "\n",
    "1. Using a `for` loop on a series is almost always a bad idea. Each iteration retrieves the value from NumPy and creates a Python object based on it.\n",
    "2. We lose the index, which might be important in this particular series.\n",
    "\n",
    "So how should we work with our strings?\n",
    "\n",
    "Answer: Via the `.str` accessor. Meaning: If we apply `.str` to our series, we get back an object on which we can run\n",
    "methods. It will then effectively run the method in a vectorized fashion, faster (we can hope) than would be the case\n",
    "using a `for` loop."
   ]
  },
  {
   "cell_type": "code",
   "execution_count": 17,
   "metadata": {},
   "outputs": [
    {
     "data": {
      "text/plain": [
       "<pandas.core.strings.accessor.StringMethods at 0x1569628a0>"
      ]
     },
     "execution_count": 17,
     "metadata": {},
     "output_type": "execute_result"
    }
   ],
   "source": [
    "s.str"
   ]
  },
  {
   "cell_type": "code",
   "execution_count": 18,
   "metadata": {},
   "outputs": [
    {
     "data": {
      "text/plain": [
       "0    7\n",
       "1    3\n",
       "2    5\n",
       "dtype: int64"
      ]
     },
     "execution_count": 18,
     "metadata": {},
     "output_type": "execute_result"
    }
   ],
   "source": [
    "s.str.len()  # this will invoke len() on each string, giving us back a new series"
   ]
  },
  {
   "cell_type": "code",
   "execution_count": 19,
   "metadata": {},
   "outputs": [
    {
     "data": {
      "text/plain": [
       "a    hello\n",
       "b      out\n",
       "c    there\n",
       "dtype: object"
      ]
     },
     "execution_count": 19,
     "metadata": {},
     "output_type": "execute_result"
    }
   ],
   "source": [
    "s = Series('hello out there'.split(),\n",
    "          index=list('abc'))\n",
    "s"
   ]
  },
  {
   "cell_type": "code",
   "execution_count": 20,
   "metadata": {},
   "outputs": [
    {
     "data": {
      "text/plain": [
       "a    5\n",
       "b    3\n",
       "c    5\n",
       "dtype: int64"
      ]
     },
     "execution_count": 20,
     "metadata": {},
     "output_type": "execute_result"
    }
   ],
   "source": [
    "s.str.len()  # this will invoke len() on each string, giving us back a new series WITH THE original's index!"
   ]
  },
  {
   "cell_type": "markdown",
   "metadata": {},
   "source": [
    "# Exercise: Longer-than-average words\n",
    "\n",
    "1. Create a series of 10 strings (words), each of a different length.\n",
    "2. Calculate the mean length of a word in the series.\n",
    "3. Find all of the words that are longer than the mean."
   ]
  },
  {
   "cell_type": "code",
   "execution_count": 21,
   "metadata": {},
   "outputs": [
    {
     "data": {
      "text/plain": [
       "0          this\n",
       "1            is\n",
       "2             a\n",
       "3     fantastic\n",
       "4       example\n",
       "5            of\n",
       "6       strings\n",
       "7            in\n",
       "8        action\n",
       "9    everywhere\n",
       "dtype: object"
      ]
     },
     "execution_count": 21,
     "metadata": {},
     "output_type": "execute_result"
    }
   ],
   "source": [
    "s = Series('this is a fantastic example of strings in action everywhere'.split())\n",
    "s"
   ]
  },
  {
   "cell_type": "code",
   "execution_count": 22,
   "metadata": {},
   "outputs": [
    {
     "data": {
      "text/plain": [
       "0     4\n",
       "1     2\n",
       "2     1\n",
       "3     9\n",
       "4     7\n",
       "5     2\n",
       "6     7\n",
       "7     2\n",
       "8     6\n",
       "9    10\n",
       "dtype: int64"
      ]
     },
     "execution_count": 22,
     "metadata": {},
     "output_type": "execute_result"
    }
   ],
   "source": [
    "s.str.len()"
   ]
  },
  {
   "cell_type": "code",
   "execution_count": 23,
   "metadata": {},
   "outputs": [
    {
     "data": {
      "text/plain": [
       "5.0"
      ]
     },
     "execution_count": 23,
     "metadata": {},
     "output_type": "execute_result"
    }
   ],
   "source": [
    "s.str.len().mean()"
   ]
  },
  {
   "cell_type": "code",
   "execution_count": 24,
   "metadata": {},
   "outputs": [
    {
     "data": {
      "text/plain": [
       "count    10.000000\n",
       "mean      5.000000\n",
       "std       3.231787\n",
       "min       1.000000\n",
       "25%       2.000000\n",
       "50%       5.000000\n",
       "75%       7.000000\n",
       "max      10.000000\n",
       "dtype: float64"
      ]
     },
     "execution_count": 24,
     "metadata": {},
     "output_type": "execute_result"
    }
   ],
   "source": [
    "s.str.len().describe()"
   ]
  },
  {
   "cell_type": "code",
   "execution_count": 26,
   "metadata": {},
   "outputs": [
    {
     "data": {
      "text/plain": [
       "0    False\n",
       "1    False\n",
       "2    False\n",
       "3     True\n",
       "4     True\n",
       "5    False\n",
       "6     True\n",
       "7    False\n",
       "8     True\n",
       "9     True\n",
       "dtype: bool"
      ]
     },
     "execution_count": 26,
     "metadata": {},
     "output_type": "execute_result"
    }
   ],
   "source": [
    "# which words are longer than 5 characters?\n",
    "s.str.len() > 5"
   ]
  },
  {
   "cell_type": "code",
   "execution_count": 31,
   "metadata": {},
   "outputs": [
    {
     "data": {
      "text/plain": [
       "3     fantastic\n",
       "4       example\n",
       "6       strings\n",
       "8        action\n",
       "9    everywhere\n",
       "dtype: object"
      ]
     },
     "execution_count": 31,
     "metadata": {},
     "output_type": "execute_result"
    }
   ],
   "source": [
    "# which words are longer than the mean of s's words' lengths?\n",
    "s.loc[\n",
    "    s.str.len() > s.str.len().mean()\n",
    "]"
   ]
  },
  {
   "cell_type": "code",
   "execution_count": 34,
   "metadata": {},
   "outputs": [
    {
     "data": {
      "text/plain": [
       "0          abcd   \n",
       "1         efgh    \n",
       "2         ijkl    \n",
       "3            abcd \n",
       "4       ijkl      \n",
       "5           ijkl  \n",
       "6            abcd \n",
       "dtype: object"
      ]
     },
     "execution_count": 34,
     "metadata": {},
     "output_type": "execute_result"
    }
   ],
   "source": [
    "# what if our strings contain leading/trailing whitespace?\n",
    "\n",
    "s = Series(['    abcd   ', 'efgh    ', '    ijkl    ', ' abcd ', ' ijkl      ', '       ijkl  ', '     abcd '])\n",
    "s"
   ]
  },
  {
   "cell_type": "code",
   "execution_count": 35,
   "metadata": {},
   "outputs": [
    {
     "data": {
      "text/plain": [
       "0    11\n",
       "1     8\n",
       "2    12\n",
       "3     6\n",
       "4    11\n",
       "5    13\n",
       "6    10\n",
       "dtype: int64"
      ]
     },
     "execution_count": 35,
     "metadata": {},
     "output_type": "execute_result"
    }
   ],
   "source": [
    "s.str.len()"
   ]
  },
  {
   "cell_type": "code",
   "execution_count": 36,
   "metadata": {},
   "outputs": [
    {
     "data": {
      "text/plain": [
       "    abcd         1\n",
       "efgh             1\n",
       "    ijkl         1\n",
       " abcd            1\n",
       " ijkl            1\n",
       "       ijkl      1\n",
       "     abcd        1\n",
       "Name: count, dtype: int64"
      ]
     },
     "execution_count": 36,
     "metadata": {},
     "output_type": "execute_result"
    }
   ],
   "source": [
    "s.value_counts()   # how often does each string appear in our series?"
   ]
  },
  {
   "cell_type": "code",
   "execution_count": 42,
   "metadata": {},
   "outputs": [
    {
     "data": {
      "text/plain": [
       "abcd    3\n",
       "ijkl    3\n",
       "efgh    1\n",
       "Name: count, dtype: int64"
      ]
     },
     "execution_count": 42,
     "metadata": {},
     "output_type": "execute_result"
    }
   ],
   "source": [
    "# I can run another string method, s.str.strip()\n",
    "\n",
    "s.str.strip().value_counts()"
   ]
  },
  {
   "cell_type": "code",
   "execution_count": 43,
   "metadata": {},
   "outputs": [
    {
     "data": {
      "text/plain": [
       "0          abcd   \n",
       "1         efgh    \n",
       "2         ijkl    \n",
       "3            abcd \n",
       "4       ijkl      \n",
       "5           ijkl  \n",
       "6            abcd \n",
       "dtype: object"
      ]
     },
     "execution_count": 43,
     "metadata": {},
     "output_type": "execute_result"
    }
   ],
   "source": [
    "s"
   ]
  },
  {
   "cell_type": "markdown",
   "metadata": {},
   "source": [
    "# Some useful methods for cleaning our data:\n",
    "\n",
    "- `.str.strip()` -- no argument means \"remove all whitespace from the front and back of the string,\" but we can pass a string to it, in which case all of its characters are stripped from the front and back\n",
    "- `.str.lower()` -- return a lowercase version\n",
    "- `.str.upper()` -- return an uppercase version"
   ]
  },
  {
   "cell_type": "code",
   "execution_count": 44,
   "metadata": {},
   "outputs": [],
   "source": [
    "s = Series(['    abcd   ', 'efgh    ', '    iJkL    ', ' ABCD ', ' Ijkl      ', '       ijkL  ', '     abcd '])\n"
   ]
  },
  {
   "cell_type": "code",
   "execution_count": 46,
   "metadata": {},
   "outputs": [
    {
     "data": {
      "text/plain": [
       "abcd    2\n",
       "efgh    1\n",
       "iJkL    1\n",
       "ABCD    1\n",
       "Ijkl    1\n",
       "ijkL    1\n",
       "Name: count, dtype: int64"
      ]
     },
     "execution_count": 46,
     "metadata": {},
     "output_type": "execute_result"
    }
   ],
   "source": [
    "s.str.strip().value_counts()"
   ]
  },
  {
   "cell_type": "code",
   "execution_count": 48,
   "metadata": {},
   "outputs": [
    {
     "data": {
      "text/plain": [
       "abcd    3\n",
       "ijkl    3\n",
       "efgh    1\n",
       "Name: count, dtype: int64"
      ]
     },
     "execution_count": 48,
     "metadata": {},
     "output_type": "execute_result"
    }
   ],
   "source": [
    "(\n",
    "    s\n",
    "    .str.strip()     # remove leading/trailing whitespace\n",
    "    .str.lower()     # get back a new series of strings, all lowercase, based on output from .str.strip()\n",
    "    .value_counts()  # runs on the result from str.lower\n",
    ")"
   ]
  },
  {
   "cell_type": "markdown",
   "metadata": {},
   "source": [
    "# Exercise: Alice words\n",
    "\n",
    "1. Create a series based on the *words* in Alice in Wonderland. (You can use `read` on this file, without worrying about the length.)\n",
    "2. Find the 10 most common words in the book, without any transformation.\n",
    "3. Find the 10 most common words in the book, removing punctuation (`string.punctuation`) from the front and back of words.\n",
    "4. Find the 10 most common words in the book, lowercasing the words *and* removing punctuation."
   ]
  },
  {
   "cell_type": "code",
   "execution_count": 49,
   "metadata": {},
   "outputs": [],
   "source": [
    "s = Series(open('alice-in-wonderland.txt').read().split())"
   ]
  },
  {
   "cell_type": "code",
   "execution_count": 50,
   "metadata": {},
   "outputs": [
    {
     "data": {
      "text/plain": [
       "12763"
      ]
     },
     "execution_count": 50,
     "metadata": {},
     "output_type": "execute_result"
    }
   ],
   "source": [
    "len(s)"
   ]
  },
  {
   "cell_type": "code",
   "execution_count": 51,
   "metadata": {},
   "outputs": [
    {
     "data": {
      "text/plain": [
       "0            ﻿The\n",
       "1         Project\n",
       "2       Gutenberg\n",
       "3           EBook\n",
       "4              of\n",
       "5           Alice\n",
       "6              in\n",
       "7     Wonderland,\n",
       "8              by\n",
       "9           Lewis\n",
       "10        Carroll\n",
       "11           This\n",
       "12          eBook\n",
       "13             is\n",
       "14            for\n",
       "15            the\n",
       "dtype: object"
      ]
     },
     "execution_count": 51,
     "metadata": {},
     "output_type": "execute_result"
    }
   ],
   "source": [
    "s.loc[:15]"
   ]
  },
  {
   "cell_type": "code",
   "execution_count": 52,
   "metadata": {},
   "outputs": [
    {
     "data": {
      "text/plain": [
       "the            732\n",
       "and            362\n",
       "a              321\n",
       "to             311\n",
       "of             300\n",
       "              ... \n",
       "present--at      1\n",
       "morning,         1\n",
       "then.\"           1\n",
       "sternly.         1\n",
       "newsletter       1\n",
       "Name: count, Length: 3408, dtype: int64"
      ]
     },
     "execution_count": 52,
     "metadata": {},
     "output_type": "execute_result"
    }
   ],
   "source": [
    "s.value_counts()"
   ]
  },
  {
   "cell_type": "code",
   "execution_count": 54,
   "metadata": {},
   "outputs": [
    {
     "data": {
      "text/plain": [
       "the      735\n",
       "and      384\n",
       "a        322\n",
       "to       320\n",
       "of       303\n",
       "in       214\n",
       "she      201\n",
       "was      167\n",
       "Alice    166\n",
       "it       164\n",
       "Name: count, dtype: int64"
      ]
     },
     "execution_count": 54,
     "metadata": {},
     "output_type": "execute_result"
    }
   ],
   "source": [
    "# 3. Find the 10 most common words in the book, removing punctuation (`string.punctuation`) from the front and back of words.\n",
    "\n",
    "import string\n",
    "\n",
    "(\n",
    "    s\n",
    "    .str.strip(string.punctuation)\n",
    "    .value_counts()\n",
    "    .head(10)\n",
    ")\n"
   ]
  },
  {
   "cell_type": "code",
   "execution_count": 55,
   "metadata": {},
   "outputs": [
    {
     "data": {
      "text/plain": [
       "the    807\n",
       "and    404\n",
       "a      328\n",
       "to     327\n",
       "of     318\n",
       "she    237\n",
       "in     227\n",
       "it     183\n",
       "you    171\n",
       "was    168\n",
       "Name: count, dtype: int64"
      ]
     },
     "execution_count": 55,
     "metadata": {},
     "output_type": "execute_result"
    }
   ],
   "source": [
    "# 4. Find the 10 most common words in the book, lowercasing the words *and* removing punctuation.\n",
    "\n",
    "import string\n",
    "\n",
    "(\n",
    "    s\n",
    "    .str.strip(string.punctuation)\n",
    "    .str.lower()\n",
    "    .value_counts()\n",
    "    .head(10)\n",
    ")"
   ]
  },
  {
   "cell_type": "code",
   "execution_count": 57,
   "metadata": {},
   "outputs": [
    {
     "data": {
      "text/plain": [
       "alice           168\n",
       "project          87\n",
       "little           59\n",
       "gutenberg-tm     56\n",
       "about            41\n",
       "other            34\n",
       "herself          33\n",
       "there            32\n",
       "works            32\n",
       "rabbit           31\n",
       "Name: count, dtype: int64"
      ]
     },
     "execution_count": 57,
     "metadata": {},
     "output_type": "execute_result"
    }
   ],
   "source": [
    "# now let's ignore any word whose length is < 5.\n",
    "\n",
    "import string\n",
    "\n",
    "(\n",
    "    s\n",
    "    .str.strip(string.punctuation)\n",
    "    .str.lower()\n",
    "    .loc[s.str.len() >= 5]\n",
    "    .value_counts()\n",
    "    .head(10)\n",
    ")"
   ]
  },
  {
   "cell_type": "code",
   "execution_count": null,
   "metadata": {},
   "outputs": [],
   "source": []
  }
 ],
 "metadata": {
  "kernelspec": {
   "display_name": "Python 3 (ipykernel)",
   "language": "python",
   "name": "python3"
  },
  "language_info": {
   "codemirror_mode": {
    "name": "ipython",
    "version": 3
   },
   "file_extension": ".py",
   "mimetype": "text/x-python",
   "name": "python",
   "nbconvert_exporter": "python",
   "pygments_lexer": "ipython3",
   "version": "3.12.1"
  }
 },
 "nbformat": 4,
 "nbformat_minor": 4
}
